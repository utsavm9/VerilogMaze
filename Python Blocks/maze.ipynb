{
 "cells": [
  {
   "cell_type": "code",
   "execution_count": 1,
   "metadata": {},
   "outputs": [],
   "source": [
    "import sys                              # Printing to file\n",
    "import numpy                            # For shape of images\n",
    "from PIL import Image, ImageDraw        # Image processing\n",
    "\n",
    "from IPython.display import display     # For displaying the images in this notebook"
   ]
  },
  {
   "cell_type": "markdown",
   "metadata": {},
   "source": []
  },
  {
   "cell_type": "markdown",
   "metadata": {},
   "source": [
    "## Load a PNG using PIL"
   ]
  },
  {
   "cell_type": "code",
   "execution_count": 2,
   "metadata": {},
   "outputs": [
    {
     "name": "stdout",
     "output_type": "stream",
     "text": [
      "Image size: (290, 290)\n",
      "Image shape: (290, 290, 3)\n"
     ]
    },
    {
     "data": {
      "image/png": "[encoded data removed]",
      "text/plain": [
       "<PIL.Image.Image image mode=RGB size=290x290 at 0x10F9C1AF0>"
      ]
     },
     "execution_count": 2,
     "metadata": {},
     "output_type": "execute_result"
    }
   ],
   "source": [
    "image = Image.open(\"m141410.png\")\n",
    "print(\"Image size:\", image.size)\n",
    "\n",
    "# Remove the alpha channel from a PNG\n",
    "image = image.convert(\"RGB\")\n",
    "image = image.rotate(90)\n",
    "\n",
    "print(\"Image shape:\", numpy.array(image).shape)\n",
    "image"
   ]
  },
  {
   "cell_type": "code",
   "execution_count": 3,
   "metadata": {},
   "outputs": [
    {
     "name": "stdout",
     "output_type": "stream",
     "text": [
      "Rows: 29\n",
      "Cols: 29\n",
      "Block width: 10.0\n"
     ]
    }
   ],
   "source": [
    "pixels = list(image.getdata())\n",
    "width, height = image.size\n",
    "pixels = [pixels[i * width:(i + 1) * width] for i in range(height)]\n",
    "\n",
    "rows = 29\n",
    "cols = 29\n",
    "block = height / rows\n",
    "\n",
    "print(\"Rows:\", rows)\n",
    "print(\"Cols:\", cols)\n",
    "print(\"Block width:\", block)"
   ]
  },
  {
   "cell_type": "code",
   "execution_count": 8,
   "metadata": {},
   "outputs": [
    {
     "data": {
      "image/png": "[encoded data removed]",
      "text/plain": [
       "<PIL.Image.Image image mode=RGB size=290x290 at 0x10F5B3A00>"
      ]
     },
     "execution_count": 8,
     "metadata": {},
     "output_type": "execute_result"
    }
   ],
   "source": [
    "# Sampling points\n",
    "boxedImage = image.copy()\n",
    "draw = ImageDraw.Draw(boxedImage)\n",
    "\n",
    "\n",
    "for r in range(1, rows - 1):\n",
    "    for c in range(1, cols - 1):\n",
    "        rowPixel = int((r + 0.5) * block)\n",
    "        colPixel = int((c + 0.5) * block)\n",
    "        \n",
    "        draw.ellipse((rowPixel - 1, colPixel - 1, rowPixel + 1, colPixel + 1), fill=(0, 0, 255))\n",
    "\n",
    "boxedImage"
   ]
  },
  {
   "cell_type": "code",
   "execution_count": 9,
   "metadata": {},
   "outputs": [
    {
     "name": "stdout",
     "output_type": "stream",
     "text": [
      ". . . . . # . . . # . . . . . . . # . . . . . . . . . \n",
      ". # . # . # # # . # . # . # # # . # . # # # . # # # # \n",
      ". # . # . . . # . . . # . # . # . # . # . # . . . . . \n",
      ". # . # # # . # # # . # . # . # . # . # . # # # # # . \n",
      ". # . # . . . . . # . # . # . . . # . . . # . . . . . \n",
      ". # . # # # # # . # # # . # . # # # # # . # . # # # . \n",
      ". # . . . . . # . # . . . # . . . # . . . # . # . . . \n",
      ". # # # # # . # . # . # # # # # . # # # # # . # . # # \n",
      ". . . # . . . # . . . # . . . # . # . . . . . # . . . \n",
      ". # # # . # # # . # # # . # . # . # . # # # # # . # . \n",
      ". # . . . # . . . # . . . # . # . # . . . # . . . # . \n",
      ". # . # # # . # # # . # # # . # . # # # . # . # . # . \n",
      ". # . # . . . . . # . . . # . # . . . . . # . # . # . \n",
      ". # . # # # # # # # # # . # . # # # # # # # . # . # . \n",
      ". # . # . . . # . . . # . # . . . . . # . . . # . # . \n",
      ". # . # . # . # . # . # . # # # # # . # . # # # . # . \n",
      ". # . . . # . # . # . . . # . # . . . # . # . # . . . \n",
      "# # # # # # . # . # # # # # . # . # # # . # . # . # # \n",
      ". . . . . . . # . # . . . . . # . . . # . # . # . # . \n",
      ". # # # # # . # . # # # . # . # # # . # # # . # . # . \n",
      ". # . . . # . # . . . # . # . . . # . . . # . # . . . \n",
      ". # # # . # . # # # . # # # # # . # # # . # . # # # . \n",
      ". . . # . . . . . # . # . . . . . . . # . . . . . . . \n",
      ". # . # # # # # # # . # . # # # # # # # # # # # . # # \n",
      ". # . # . . . . . # . # . . . . . . . . . . . # . # . \n",
      ". # . # . # # # . # . # . # # # # # # # . # # # . # . \n",
      ". # . . . . . # . . . # . . . . . . . # . . . . . . . \n"
     ]
    }
   ],
   "source": [
    "# Pixel representation\n",
    "for r in range(1, rows - 1):\n",
    "    for c in range(1, cols - 1):\n",
    "        rowPixel = int((r + 0.5) * block)\n",
    "        colPixel = int((c + 0.5) * block)\n",
    "        \n",
    "        pixel = pixels[rowPixel][colPixel]\n",
    "        val = int(pixel[2])\n",
    "        isBlack = 1 if val < 50 else 0\n",
    "\n",
    "\n",
    "        if isBlack == 1:\n",
    "            print(\"# \", end=\"\")\n",
    "        else:\n",
    "            print(\". \", end=\"\")\n",
    "    print()\n"
   ]
  },
  {
   "cell_type": "code",
   "execution_count": 12,
   "metadata": {},
   "outputs": [
    {
     "name": "stdout",
     "output_type": "stream",
     "text": [
      "Done\n"
     ]
    }
   ],
   "source": [
    "# Generate blocks file\n",
    "original = sys.stdout\n",
    "\n",
    "with open(\"blocks.txt\", \"w\") as file:\n",
    "    sys.stdout = file\n",
    "    \n",
    "    for r in range(1, rows - 1):\n",
    "        for c in range(1, cols - 1):\n",
    "            rowPixel = int((r + 0.5) * block)\n",
    "            colPixel = int((c + 0.5) * block)\n",
    "        \n",
    "            pixel = pixels[rowPixel][colPixel]\n",
    "            val = int(pixel[2])\n",
    "            isBlack = 1 if val < 50 else 0\n",
    "\n",
    "\n",
    "            if isBlack == 1:\n",
    "                print(\"blocks[{r}][{c}] <= 1;\".format(r=r, c=c))\n",
    "\n",
    "    sys.stdout = original\n",
    "\n",
    "print(\"Done\")    \n"
   ]
  },
  {
   "cell_type": "code",
   "execution_count": null,
   "metadata": {},
   "outputs": [],
   "source": []
  }
 ],
 "metadata": {
  "interpreter": {
   "hash": "aee8b7b246df8f9039afb4144a1f6fd8d2ca17a180786b69acc140d282b71a49"
  },
  "kernelspec": {
   "display_name": "Python 3.9.7 64-bit",
   "language": "python",
   "name": "python3"
  },
  "language_info": {
   "codemirror_mode": {
    "name": "ipython",
    "version": 3
   },
   "file_extension": ".py",
   "mimetype": "text/x-python",
   "name": "python",
   "nbconvert_exporter": "python",
   "pygments_lexer": "ipython3",
   "version": "3.9.7"
  },
  "orig_nbformat": 4
 },
 "nbformat": 4,
 "nbformat_minor": 2
}
